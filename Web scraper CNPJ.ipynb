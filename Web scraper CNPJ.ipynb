{
 "cells": [
  {
   "cell_type": "code",
   "execution_count": 1,
   "id": "d0e83c99",
   "metadata": {},
   "outputs": [],
   "source": [
    "import pandas as pd\n",
    "import numpy as np\n",
    "import pyodbc\n",
    "pd.set_option('display.max_columns', None)\n",
    "pd.set_option(\"display.max_rows\", None)"
   ]
  },
  {
   "cell_type": "code",
   "execution_count": 2,
   "id": "0fd3d007",
   "metadata": {},
   "outputs": [],
   "source": [
    "from urllib.request import urlopen\n",
    "from bs4 import BeautifulSoup\n",
    "from requests import get"
   ]
  },
  {
   "cell_type": "code",
   "execution_count": null,
   "id": "cb3dfbca",
   "metadata": {},
   "outputs": [],
   "source": [
    "import getpass\n",
    "#conexão com o dataWarehouse\n",
    "server = 'localhost' \n",
    "database = 'dataWarehouse' \n",
    "username = '' \n",
    "password =  getpass.getpass()\n",
    "cnxn = pyodbc.connect('DRIVER={SQL Server};SERVER='+server+';DATABASE='+database+';UID='+username+';PWD='+ password)\n",
    "cursor = cnxn.cursor()\n"
   ]
  },
  {
   "cell_type": "code",
   "execution_count": 467,
   "id": "0aa83975",
   "metadata": {},
   "outputs": [
    {
     "data": {
      "text/plain": [
       "((13790, 12), (18223, 12))"
      ]
     },
     "execution_count": 467,
     "metadata": {},
     "output_type": "execute_result"
    }
   ],
   "source": [
    "#carrega a dim_cliente\n",
    "query = \"SELECT * from dim_cliente where tipo_cliente = 'J' and mercado_cliente = 'I' and CPF_CNPJ > 9999999999 and situacao_cliente = 'A';\"\n",
    "queryDC = \"SELECT * from dim_cliente;\"\n",
    "df = pd.read_sql(query, cnxn)\n",
    "dim_cliente = pd.read_sql(queryDC, cnxn)\n",
    "df.shape, dim_cliente.shape"
   ]
  },
  {
   "cell_type": "code",
   "execution_count": 272,
   "id": "a7572051",
   "metadata": {},
   "outputs": [],
   "source": [
    "#função para scraping de CNPJ\n",
    "def scrapNome(cnpj):\n",
    "    url = 'https://www.consultascnpj.com/matriz/' + cnpj[:8]\n",
    "    headers = {\n",
    "        'User-Agent': 'Mozilla/5.0 (Macintosh; Intel Mac OS X 10.12; rv:55.0) Gecko/20100101 Firefox/55.0',\n",
    "    }\n",
    "    response = get(url, headers = headers)\n",
    "    html_soup = BeautifulSoup(response.text, 'html.parser')\n",
    "    nome = html_soup.find_all('h1')\n",
    "    if not nome:\n",
    "        return scrapNome2(cnpj)\n",
    "    else: \n",
    "        print(html_soup.h1.text.upper())\n",
    "        return html_soup.h1.text.upper()\n",
    "def scrapNome2(cnpj):\n",
    "    url = 'https://www.cnpj.pro/info/' + cnpj\n",
    "    headers = {\n",
    "        'User-Agent': 'Mozilla/5.0 (Macintosh; Intel Mac OS X 10.12; rv:55.0) Gecko/20100101 Firefox/55.0',\n",
    "    }\n",
    "    response = get(url, headers = headers)\n",
    "    html_soup = BeautifulSoup(response.text, 'html.parser')\n",
    "    nome = html_soup.find_all('h1', class_ = 'h2')\n",
    "    if not nome:\n",
    "        scrapNome3(cnpj)\n",
    "    else:\n",
    "        print(nome[0]).text.upper()\n",
    "        return nome[0].text.upper()\n",
    "def scrapNome3(cnpj):\n",
    "    url = 'https://www.foneempresas.com/telefone/cnpj/cibra/' + cnpj\n",
    "    headers = {\n",
    "        'User-Agent': 'Mozilla/5.0 (Macintosh; Intel Mac OS X 10.12; rv:55.0) Gecko/20100101 Firefox/55.0',\n",
    "    }\n",
    "    response = get(url, headers = headers)\n",
    "    html_soup = BeautifulSoup(response.text, 'html.parser')\n",
    "    type(html_soup)\n",
    "    nome = html_soup.find_all('span', class_ = 'text')\n",
    "    #print(nome[1].text)\n",
    "    if not nome:\n",
    "        print(cnpj + ' não encontrado')\n",
    "        return ''\n",
    "    else:\n",
    "        print(nome[1]).text.upper()\n",
    "        return nome[1].text\n"
   ]
  },
  {
   "cell_type": "code",
   "execution_count": 16,
   "id": "fe347e04",
   "metadata": {
    "scrolled": true
   },
   "outputs": [
    {
     "data": {
      "text/plain": [
       "cod_cliente          int64\n",
       "nome_cliente        object\n",
       "apelido_cliente     object\n",
       "cidade_cliente      object\n",
       "UF_cliente          object\n",
       "pais_cliente        object\n",
       "endereco_cliente    object\n",
       "situacao_cliente    object\n",
       "mercado_cliente     object\n",
       "end_completo_cli    object\n",
       "CPF_CNPJ             int64\n",
       "tipo_cliente        object\n",
       "dtype: object"
      ]
     },
     "execution_count": 16,
     "metadata": {},
     "output_type": "execute_result"
    }
   ],
   "source": [
    "df.dtypes"
   ]
  },
  {
   "cell_type": "code",
   "execution_count": 304,
   "id": "7326853f",
   "metadata": {},
   "outputs": [
    {
     "data": {
      "text/plain": [
       "(2391, 15)"
      ]
     },
     "execution_count": 304,
     "metadata": {},
     "output_type": "execute_result"
    }
   ],
   "source": [
    "dfGrupo.shape"
   ]
  },
  {
   "cell_type": "code",
   "execution_count": 312,
   "id": "2915e460",
   "metadata": {},
   "outputs": [],
   "source": [
    "####Carrega o prefixo do CNPJ em CNPJ e o sufixo em filial\n",
    "df['CNPJ'] = df['CPF_CNPJ'].astype('object')\n",
    "df['Filial'] = df['CNPJ'].apply(lambda x: str(x).zfill(14)).str[8:12]\n",
    "df['CNPJ'] = df['CNPJ'].apply(lambda x: str(x).zfill(14)).str[:8]"
   ]
  },
  {
   "cell_type": "code",
   "execution_count": 294,
   "id": "13c79ae6",
   "metadata": {},
   "outputs": [],
   "source": [
    "## agrupa os cnpjs do mesmo grupo e cria a coluna C com a quantidade e filiais\n",
    "df['C'] = df.groupby('CNPJ')['CNPJ'].transform('size')\n",
    "df.sort_values(by=['C', 'CNPJ'], inplace=True)\n",
    "## cria o dataframe grupo com todos os clientes que possuem mais de uma filial\n",
    "dfGrupo = df.loc[df['C'] > 1]"
   ]
  },
  {
   "cell_type": "code",
   "execution_count": 320,
   "id": "5d033dd5",
   "metadata": {},
   "outputs": [],
   "source": [
    "#dataframe contagem apenas com os valores duplicados em df\n",
    "contagem = df.loc[df['CNPJ'].duplicated(False)]\n",
    "\n"
   ]
  },
  {
   "cell_type": "code",
   "execution_count": 391,
   "id": "77c0a459",
   "metadata": {},
   "outputs": [],
   "source": [
    "#agrupados por CNPJ os valores de contagem\n",
    "\n",
    "contagem['CPF_CNPJ'] = contagem['CPF_CNPJ'].astype('object').apply(lambda x: str(x).zfill(14))\n",
    "grupo = contagem.groupby('CNPJ').first().iloc[:,:0]\n"
   ]
  },
  {
   "cell_type": "code",
   "execution_count": 469,
   "id": "a8adeed5",
   "metadata": {},
   "outputs": [
    {
     "data": {
      "text/plain": [
       "(18223, 14)"
      ]
     },
     "execution_count": 469,
     "metadata": {},
     "output_type": "execute_result"
    }
   ],
   "source": [
    "# Transforma CNPJ em object, Cria coluna CNPJ com o prefixo do CNPJ, faz left join entre dim_cliente e grupo de nomes\n",
    "\n",
    "dim_cliente['CNPJ'] = dim_cliente['CPF_CNPJ'].astype('object')\n",
    "dim_cliente['CNPJ'] = dim_cliente['CNPJ'].apply(lambda x: str(x).zfill(14)).str[:8]\n",
    "dim_cliente = pd.merge(dim_cliente, nomeGrupo, left_on = 'CNPJ', right_on = 'CNPJ', how = 'left')\n",
    "dim_cliente.shape"
   ]
  },
  {
   "cell_type": "code",
   "execution_count": 284,
   "id": "fa1dd541",
   "metadata": {},
   "outputs": [],
   "source": [
    "#backup dos nomes\n",
    "nome.to_csv('nomes.csv')"
   ]
  },
  {
   "cell_type": "code",
   "execution_count": 476,
   "id": "071d1794",
   "metadata": {},
   "outputs": [],
   "source": [
    "for i, row in dim_cliente2.iterrows():\n",
    "     cursor.execute(\"UPDATE dim_cliente2 set nome_grupo = ? where cod_cliente = ?\", row.Nome, row.cod_cliente)\n",
    "cnxn.commit()\n",
    "cursor.close()"
   ]
  }
 ],
 "metadata": {
  "kernelspec": {
   "display_name": "Python 3",
   "language": "python",
   "name": "python3"
  },
  "language_info": {
   "codemirror_mode": {
    "name": "ipython",
    "version": 3
   },
   "file_extension": ".py",
   "mimetype": "text/x-python",
   "name": "python",
   "nbconvert_exporter": "python",
   "pygments_lexer": "ipython3",
   "version": "3.8.8"
  }
 },
 "nbformat": 4,
 "nbformat_minor": 5
}
